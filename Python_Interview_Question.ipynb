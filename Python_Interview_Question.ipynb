{
 "cells": [
  {
   "cell_type": "code",
   "execution_count": 42,
   "id": "42b3998c-4b36-48d1-bb6e-396d5d21bbde",
   "metadata": {},
   "outputs": [
    {
     "name": "stdin",
     "output_type": "stream",
     "text": [
      " 1\n"
     ]
    },
    {
     "name": "stdout",
     "output_type": "stream",
     "text": [
      "Positive\n"
     ]
    }
   ],
   "source": [
    "#positive or negative\n",
    "\n",
    "num = int(input())\n",
    "if num >= 0:\n",
    "    print(\"Positive\")\n",
    "\n",
    "else:\n",
    "    print(\"Negative\")"
   ]
  },
  {
   "cell_type": "code",
   "execution_count": 48,
   "id": "84314d08-af02-49de-b7fc-d91f32d48223",
   "metadata": {},
   "outputs": [
    {
     "name": "stdin",
     "output_type": "stream",
     "text": [
      " 0\n"
     ]
    },
    {
     "name": "stdout",
     "output_type": "stream",
     "text": [
      "enter a valid number\n"
     ]
    }
   ],
   "source": [
    "#odd or even:\n",
    "\n",
    "a = int(input())\n",
    "if a == 0:\n",
    "    print(\"enter a valid number\")\n",
    "elif a % 2==0:\n",
    "    print(\"even\")\n",
    "else:\n",
    "    print(\"odd\")"
   ]
  },
  {
   "cell_type": "code",
   "execution_count": null,
   "id": "4f057628-684b-4661-80f1-89ee8c551ca5",
   "metadata": {},
   "outputs": [],
   "source": [
    "# vowels or not"
   ]
  },
  {
   "cell_type": "code",
   "execution_count": 78,
   "id": "b74483c9-6f05-4c38-9d52-f00d77bff51a",
   "metadata": {},
   "outputs": [
    {
     "name": "stdin",
     "output_type": "stream",
     "text": [
      " A\n"
     ]
    },
    {
     "name": "stdout",
     "output_type": "stream",
     "text": [
      "vowels\n"
     ]
    }
   ],
   "source": [
    "vow = input()\n",
    "if vow in('a','e','i','o','u','A','E','I','O','U'):\n",
    "    print(\"vowels\")\n",
    "else:\n",
    "    print(\"not a vowels\")"
   ]
  },
  {
   "cell_type": "code",
   "execution_count": 86,
   "id": "f6ed861c-fec3-43b0-9aa8-8107cb8ed6b1",
   "metadata": {},
   "outputs": [
    {
     "name": "stdin",
     "output_type": "stream",
     "text": [
      " 10\n"
     ]
    },
    {
     "name": "stdout",
     "output_type": "stream",
     "text": [
      "5.5\n"
     ]
    }
   ],
   "source": [
    "# range with average\n",
    "a = int(input())\n",
    "i = 1\n",
    "b = 0\n",
    "while i <= a:\n",
    "    b = b + i\n",
    "    i = i + 1\n",
    "c = b/a\n",
    "print(c)"
   ]
  },
  {
   "cell_type": "code",
   "execution_count": 133,
   "id": "f61bab2c-819c-4363-a481-a365e9f0c724",
   "metadata": {},
   "outputs": [
    {
     "name": "stdin",
     "output_type": "stream",
     "text": [
      " 30\n",
      " 6\n"
     ]
    },
    {
     "name": "stdout",
     "output_type": "stream",
     "text": [
      "6\n",
      "12\n",
      "18\n",
      "24\n",
      "30\n"
     ]
    }
   ],
   "source": [
    "# finding a divisible number by giving a random input\n",
    "\n",
    "a = int(input())\n",
    "div = int(input())\n",
    "i = 1\n",
    "while i <= a:\n",
    "    if i % div == 0:\n",
    "        print(i)\n",
    "    i = i + 1\n",
    "        \n",
    "        \n",
    "        \n",
    "    \n",
    "     "
   ]
  },
  {
   "cell_type": "code",
   "execution_count": 45,
   "id": "ecae499c-928f-44c0-a952-18ed0be592e3",
   "metadata": {},
   "outputs": [
    {
     "name": "stdin",
     "output_type": "stream",
     "text": [
      " 5\n",
      " 10\n"
     ]
    },
    {
     "name": "stdout",
     "output_type": "stream",
     "text": [
      "5 X 1 = 5\n",
      "5 X 2 = 10\n",
      "5 X 3 = 15\n",
      "5 X 4 = 20\n",
      "5 X 5 = 25\n",
      "5 X 6 = 30\n",
      "5 X 7 = 35\n",
      "5 X 8 = 40\n",
      "5 X 9 = 45\n",
      "5 X 10 = 50\n"
     ]
    }
   ],
   "source": [
    "# multiply wiht given range of number\n",
    "a = int(input())\n",
    "b = int(input())\n",
    "i = 1\n",
    "while i <= b:\n",
    "    print(a,'X',i,'=',a*i)\n",
    "    i = i + 1"
   ]
  },
  {
   "cell_type": "code",
   "execution_count": 65,
   "id": "0f48d950-85d9-45b4-b9ae-c5b3768f7dda",
   "metadata": {},
   "outputs": [
    {
     "name": "stdin",
     "output_type": "stream",
     "text": [
      " 5\n"
     ]
    },
    {
     "name": "stdout",
     "output_type": "stream",
     "text": [
      "15\n"
     ]
    }
   ],
   "source": [
    "# find a sum of natural numbers:\n",
    "a = int(input())\n",
    "i = 1\n",
    "b = 0\n",
    "while i <= a:\n",
    "    b = b + i\n",
    "    i = i + 1\n",
    "print(b)"
   ]
  },
  {
   "cell_type": "code",
   "execution_count": 131,
   "id": "8433c4ef-7c4e-4c48-a0a7-fd5acd9550c6",
   "metadata": {},
   "outputs": [
    {
     "name": "stdin",
     "output_type": "stream",
     "text": [
      " 15\n",
      " 10\n",
      " 5\n"
     ]
    },
    {
     "name": "stdout",
     "output_type": "stream",
     "text": [
      "15\n"
     ]
    }
   ],
   "source": [
    "# find which is the largest among 3 number\n",
    "a = int(input())\n",
    "b = int(input())\n",
    "c = int(input())\n",
    "if a > b:\n",
    "    if a > c:\n",
    "        print(a)\n",
    "    else:\n",
    "        print(c)\n",
    "elif b > c:\n",
    "    print(b)\n",
    "else:\n",
    "    print(c)"
   ]
  },
  {
   "cell_type": "code",
   "execution_count": 147,
   "id": "860b42f4-1d69-46fd-85ff-44f472733d37",
   "metadata": {},
   "outputs": [
    {
     "name": "stdout",
     "output_type": "stream",
     "text": [
      "100\n"
     ]
    }
   ],
   "source": [
    "#find which is the maximum number in the list:\n",
    "a = [20,30,15,50,100]\n",
    "i = 0\n",
    "for max in a:\n",
    "    if max > i:\n",
    "        i = max\n",
    "\n",
    "print(i)\n",
    "\n",
    "\n",
    "\n",
    "\n"
   ]
  },
  {
   "cell_type": "code",
   "execution_count": 149,
   "id": "4431b91f-ee63-4b31-bad1-329c51d23021",
   "metadata": {},
   "outputs": [
    {
     "name": "stdout",
     "output_type": "stream",
     "text": [
      "100\n",
      "largest number 100\n",
      "second number 50\n"
     ]
    }
   ],
   "source": [
    "# find the 1st largest and 2nd largest number in the list:\n",
    "a = [20,30,15,50,100]\n",
    "i = 0\n",
    "for max in a:\n",
    "    if max > i:\n",
    "        i = max\n",
    "\n",
    "print(i)\n",
    "\n",
    "b = []\n",
    "for max1 in a:\n",
    "    if max1 != i:\n",
    "        b.append(max1)\n",
    "c = 0\n",
    "for max2 in b:\n",
    "    if max2 > c:\n",
    "        c = max2\n",
    "\n",
    "\n",
    "print('largest number',i)\n",
    "print('second number',c)"
   ]
  },
  {
   "cell_type": "code",
   "execution_count": null,
   "id": "1cf1e63c-32f6-4ae5-a61a-33338bc387ad",
   "metadata": {},
   "outputs": [],
   "source": []
  }
 ],
 "metadata": {
  "kernelspec": {
   "display_name": "Python 3 (ipykernel)",
   "language": "python",
   "name": "python3"
  },
  "language_info": {
   "codemirror_mode": {
    "name": "ipython",
    "version": 3
   },
   "file_extension": ".py",
   "mimetype": "text/x-python",
   "name": "python",
   "nbconvert_exporter": "python",
   "pygments_lexer": "ipython3",
   "version": "3.12.4"
  }
 },
 "nbformat": 4,
 "nbformat_minor": 5
}
